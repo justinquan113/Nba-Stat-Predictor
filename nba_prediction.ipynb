{
 "cells": [
  {
   "cell_type": "code",
   "execution_count": 57,
   "id": "69bef9dc",
   "metadata": {},
   "outputs": [],
   "source": [
    "import pandas as pd\n",
    "\n",
    "pd.set_option('display.max_columns', None)\n",
    "df = pd.read_csv('Nba_stats.csv' ,encoding= \"utf-8\", index_col=0 )\n",
    "df['Player'] = df['Player'].str.encode('latin1').str.decode('utf-8')\n",
    "df['FG%'] = df['FG%'].fillna(0)\n",
    "df['FT%'] = df['FT%'].fillna(0)\n",
    "df['3P%'] = df['3P%'].fillna(0)\n",
    "df['2P%'] = df['2P%'].fillna(0)\n",
    "df['eFG%'] = df['eFG%'].fillna(0)\n",
    "df['Age'] = df['Age'].fillna(0)\n",
    "df['Age'] = df['Age'].astype(int)\n",
    "df['G'] = df['G'].fillna(0)\n",
    "df['GS'] = df['GS'].fillna(0)\n",
    "df['G'] = df['G'].astype(int)\n",
    "df['GS'] = df['GS'].astype(int)\n",
    "\n",
    "df['team_code'] = df['Team'].astype(\"category\").cat.codes\n",
    "df['pos_code'] = df['Pos'].astype('category').cat.codes\n",
    "df['player_id'] = df['id'].astype('category').cat.codes\n",
    "\n",
    "df = df.sort_values(['Player', 'Season']).reset_index(drop=True)\n",
    "df = df.drop_duplicates(subset=['Season', 'Player'], keep='first')\n",
    "\n",
    "\n",
    "\n"
   ]
  },
  {
   "cell_type": "code",
   "execution_count": null,
   "id": "1067614a",
   "metadata": {},
   "outputs": [],
   "source": []
  },
  {
   "cell_type": "code",
   "execution_count": 58,
   "id": "1de99608",
   "metadata": {},
   "outputs": [
    {
     "name": "stderr",
     "output_type": "stream",
     "text": [
      "C:\\Users\\LL205\\AppData\\Local\\Temp\\ipykernel_21092\\4281183511.py:6: FutureWarning: DataFrameGroupBy.apply operated on the grouping columns. This behavior is deprecated, and in a future version of pandas the grouping columns will be excluded from the operation. Either pass `include_groups=False` to exclude the groupings or explicitly select the grouping columns after groupby to silence this warning.\n",
      "  df = df.groupby('Player', group_keys=False).apply(next_season_stats)\n"
     ]
    }
   ],
   "source": [
    "def next_season_stats(player):\n",
    "   \n",
    "    player[['Next-PPG', 'Next-APG', 'Next-RPG', 'Next-STL','Next-BLK' ]] = player[['PTS', 'AST', 'TRB', 'STL' , 'BLK']].shift(-1)\n",
    "    return player\n",
    "\n",
    "df = df.groupby('Player', group_keys=False).apply(next_season_stats)\n",
    "#used to filter out inactive players by finding their last season played\n",
    "df['last_season'] = df.groupby('player_id')['Season'].transform('max')\n",
    "#dropping any player that did not play last season\n",
    "df = df.drop(df[df['last_season'] != 2025].index)\n"
   ]
  },
  {
   "cell_type": "code",
   "execution_count": 59,
   "id": "58da0ca1",
   "metadata": {},
   "outputs": [],
   "source": [
    "from sklearn.ensemble import RandomForestRegressor\n",
    "from sklearn.multioutput import MultiOutputRegressor\n",
    "from sklearn.model_selection import train_test_split\n"
   ]
  },
  {
   "cell_type": "code",
   "execution_count": 60,
   "id": "a0718d95",
   "metadata": {},
   "outputs": [],
   "source": [
    "base_model = RandomForestRegressor()\n",
    "model = MultiOutputRegressor(base_model)\n"
   ]
  },
  {
   "cell_type": "code",
   "execution_count": 61,
   "id": "2ab6cd72",
   "metadata": {},
   "outputs": [],
   "source": [
    "features = ['G', 'GS','PTS' ,'AST', 'TRB', 'Age', 'STL', 'BLK', 'MP', '3PA', 'team_code', 'FGA', 'pos_code','player_id', 'PER', 'USG%', 'TRB%', 'AST%', 'STL%', 'BLK%', 'WS/48', 'VORP']\n",
    "\n"
   ]
  },
  {
   "cell_type": "code",
   "execution_count": 62,
   "id": "a5b458e9",
   "metadata": {},
   "outputs": [],
   "source": [
    "years = sorted(df[\"Season\"].unique())\n"
   ]
  },
  {
   "cell_type": "code",
   "execution_count": 63,
   "id": "39607a95",
   "metadata": {},
   "outputs": [],
   "source": [
    "def backtest(data, model, features, start=3, step=1):\n",
    "    all_predictions = []\n",
    "    years = sorted(data[\"Season\"].unique())\n",
    "\n",
    "\n",
    "    prediction = ['P-PPG', 'P-APG', 'P-RBG', 'P-STL', 'P-BLK']\n",
    "    \n",
    "    actual_targets = ['Next-PPG','Next-APG','Next-RPG','Next-STL','Next-BLK']\n",
    "\n",
    "    for i in range(start, len(years), step):\n",
    "        current_year = years[i]\n",
    "        \n",
    "        train = data[data[\"Season\"] < current_year]\n",
    "        test = data[data[\"Season\"] == current_year]\n",
    "        \n",
    "        model.fit(train[features], train[actual_targets])\n",
    "        preds = model.predict(test[features]) \n",
    "        \n",
    "        preds_df = pd.DataFrame(preds, columns=prediction ,index=test.index)\n",
    "        preds_df = preds_df[prediction].round(1)\n",
    "        combined = pd.concat([test[['Player', 'Season']], test[actual_targets], preds_df], axis= 1)\n",
    "        \n",
    "        all_predictions.append(combined)\n",
    "    return pd.concat(all_predictions)\n",
    "   \n"
   ]
  },
  {
   "cell_type": "code",
   "execution_count": 68,
   "id": "18ae01c3",
   "metadata": {},
   "outputs": [],
   "source": [
    "predictions = backtest(df, model, features)\n",
    "\n"
   ]
  },
  {
   "cell_type": "code",
   "execution_count": 65,
   "id": "6b678c28",
   "metadata": {},
   "outputs": [
    {
     "name": "stdout",
     "output_type": "stream",
     "text": [
      "2.284655421686747\n"
     ]
    }
   ],
   "source": [
    "from sklearn.metrics import mean_squared_error\n",
    "mask = predictions['Season'] < 2025\n",
    "mse = mean_squared_error(predictions.loc[mask , ['Next-PPG','Next-APG','Next-RPG','Next-STL','Next-BLK']], predictions.loc[mask, ['P-PPG', 'P-APG', 'P-RBG', 'P-STL', 'P-BLK']])\n",
    "print(mse) \n",
    "\n"
   ]
  },
  {
   "cell_type": "code",
   "execution_count": null,
   "id": "113e4f25",
   "metadata": {},
   "outputs": [],
   "source": []
  },
  {
   "cell_type": "code",
   "execution_count": null,
   "id": "356254d2",
   "metadata": {},
   "outputs": [],
   "source": [
    "\n",
    "    "
   ]
  },
  {
   "cell_type": "code",
   "execution_count": null,
   "id": "1108fc92",
   "metadata": {},
   "outputs": [],
   "source": []
  }
 ],
 "metadata": {
  "kernelspec": {
   "display_name": "Python 3",
   "language": "python",
   "name": "python3"
  },
  "language_info": {
   "codemirror_mode": {
    "name": "ipython",
    "version": 3
   },
   "file_extension": ".py",
   "mimetype": "text/x-python",
   "name": "python",
   "nbconvert_exporter": "python",
   "pygments_lexer": "ipython3",
   "version": "3.13.0"
  }
 },
 "nbformat": 4,
 "nbformat_minor": 5
}
